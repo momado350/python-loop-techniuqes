{
 "cells": [
  {
   "cell_type": "code",
   "execution_count": 3,
   "metadata": {},
   "outputs": [
    {
     "name": "stdout",
     "output_type": "stream",
     "text": [
      "True\n"
     ]
    }
   ],
   "source": [
    "# we have string and want to check if it is palindrome or not\n",
    "word = \"hananah\"\n",
    "# create a boolean variable\n",
    "is_palindrome = True\n",
    "# run a for loop \n",
    "for i in range (len(word)):\n",
    "    # use condition, ckeck if i not equal to the crossponding i:\n",
    "    # then return false\n",
    "    if word[i] != word[len(word)-i-1]:\n",
    "        is_palindrome = False\n",
    "        # else, implicitly return:\n",
    "        # it is palindrome\n",
    "print(is_palindrome)"
   ]
  },
  {
   "cell_type": "code",
   "execution_count": null,
   "metadata": {},
   "outputs": [],
   "source": []
  }
 ],
 "metadata": {
  "kernelspec": {
   "display_name": "Python 3.6.10 64-bit ('PythonData': conda)",
   "language": "python",
   "name": "python361064bitpythondataconda78ac61cb7ad5453197bfca4731d0b634"
  },
  "language_info": {
   "codemirror_mode": {
    "name": "ipython",
    "version": 3
   },
   "file_extension": ".py",
   "mimetype": "text/x-python",
   "name": "python",
   "nbconvert_exporter": "python",
   "pygments_lexer": "ipython3",
   "version": "3.6.10"
  }
 },
 "nbformat": 4,
 "nbformat_minor": 4
}
